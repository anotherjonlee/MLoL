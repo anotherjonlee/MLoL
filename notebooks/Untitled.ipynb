{
 "cells": [
  {
   "cell_type": "code",
   "execution_count": 1,
   "metadata": {},
   "outputs": [],
   "source": [
    "import sys\n",
    "sys.path.append(\"..\") ## resetting the path to the parent directory"
   ]
  },
  {
   "cell_type": "code",
   "execution_count": 2,
   "metadata": {},
   "outputs": [],
   "source": [
    "from src.pipeline import *\n",
    "import src.key_reader as kr"
   ]
  },
  {
   "cell_type": "code",
   "execution_count": 3,
   "metadata": {},
   "outputs": [],
   "source": [
    "api_key = kr.key()"
   ]
  },
  {
   "cell_type": "code",
   "execution_count": null,
   "metadata": {},
   "outputs": [],
   "source": [
    "#def json_parser(json_file):\n",
    "#    import json\n",
    "#    json"
   ]
  },
  {
   "cell_type": "code",
   "execution_count": null,
   "metadata": {},
   "outputs": [],
   "source": [
    "import json"
   ]
  },
  {
   "cell_type": "code",
   "execution_count": null,
   "metadata": {},
   "outputs": [],
   "source": [
    "with open(\"../data/matchlist_kr.json\",'r') as file:\n",
    "    kr_match_ids = json.load(file)"
   ]
  },
  {
   "cell_type": "markdown",
   "metadata": {},
   "source": [
    "## Let's assume I already have a massive raw match details\n",
    "## Obj. 1: build a function to grab only the necessary features.\n",
    "### team stats in a given match:\n",
    "'win': 'Win',\n",
    "'firstBlood': True,\n",
    "'firstTower': False,\n",
    "'firstInhibitor': False,\n",
    "'firstBaron': False,\n",
    "'firstDragon': False,\n",
    "'firstRiftHerald': False,\n",
    "'towerKills': 9,\n",
    "'inhibitorKills': 1,\n",
    "'baronKills': 0,\n",
    "'dragonKills': 2,\n",
    "'vilemawKills': 0,\n",
    "'riftHeraldKills': 0,\n",
    "'dominionVictoryScore': 0\n",
    "\n",
    "### player stats n a given match:\n",
    "participantId': 1,\n",
    "     'win': True,\n",
    "     'item0': 3800,\n",
    "     'item1': 3748,\n",
    "     'item2': 3193,\n",
    "     'item3': 3065,\n",
    "     'item4': 3742,\n",
    "     'item5': 3071,\n",
    "     'item6': 3340,\n",
    "     'kills': 17,\n",
    "     'deaths': 5,\n",
    "     'assists': 25,\n",
    "     'largestKillingSpree': 8,\n",
    "     'largestMultiKill': 2,\n",
    "     'killingSprees': 3,\n",
    "     'longestTimeSpentLiving': 1144,\n",
    "     'doubleKills': 1,\n",
    "     'tripleKills': 0,\n",
    "     'quadraKills': 0,\n",
    "     'pentaKills': 0,\n",
    "     'unrealKills': 0,\n",
    "     'totalDamageDealt': 335249,\n",
    "     'magicDamageDealt': 0,\n",
    "     'physicalDamageDealt': 331745,\n",
    "     'trueDamageDealt': 3504,\n",
    "     'largestCriticalStrike': 0,\n",
    "     'totalDamageDealtToChampions': 42926,\n",
    "     'magicDamageDealtToChampions': 0,\n",
    "     'physicalDamageDealtToChampions': 42190,\n",
    "     'trueDamageDealtToChampions': 736,\n",
    "     'totalHeal': 5174,\n",
    "     'totalUnitsHealed': 1,\n",
    "     'damageSelfMitigated': 84529,\n",
    "     'damageDealtToObjectives': 17163,\n",
    "     'damageDealtToTurrets': 8614,\n",
    "     'visionScore': 50,\n",
    "     'timeCCingOthers': 16,\n",
    "     'totalDamageTaken': 82758,\n",
    "     'magicalDamageTaken': 35020,\n",
    "     'physicalDamageTaken': 44500,\n",
    "     'trueDamageTaken': 3237,\n",
    "     'goldEarned': 26248,\n",
    "     'goldSpent': 21700,\n",
    "     'turretKills': 3,\n",
    "     'inhibitorKills': 0,\n",
    "     'totalMinionsKilled': 373,\n",
    "     'neutralMinionsKilled': 12,\n",
    "     'neutralMinionsKilledTeamJungle': 0,\n",
    "     'neutralMinionsKilledEnemyJungle': 9,\n",
    "     'totalTimeCrowdControlDealt': 388,\n",
    "     'champLevel': 18,\n",
    "     'visionWardsBoughtInGame': 0,\n",
    "     'sightWardsBoughtInGame': 0,\n",
    "     'wardsPlaced': 27,\n",
    "     'wardsKilled': 5,\n",
    "     'firstBloodKill': False,\n",
    "     'firstBloodAssist': False,\n",
    "     'firstTowerKill': False,\n",
    "     'firstTowerAssist': False,\n",
    "     'firstInhibitorKill': False,\n",
    "     'firstInhibitorAssist': False"
   ]
  },
  {
   "cell_type": "code",
   "execution_count": null,
   "metadata": {},
   "outputs": [],
   "source": [
    "with open(\"../data/matches1.json\",encoding='latin1') as file:\n",
    "    match_details = json.load(file) "
   ]
  },
  {
   "cell_type": "code",
   "execution_count": null,
   "metadata": {},
   "outputs": [],
   "source": [
    "match_details['matches'][0] ## <- each match detail in json file"
   ]
  },
  {
   "cell_type": "code",
   "execution_count": null,
   "metadata": {},
   "outputs": [],
   "source": [
    "len(match_details['matches'])"
   ]
  },
  {
   "cell_type": "code",
   "execution_count": null,
   "metadata": {},
   "outputs": [],
   "source": [
    "## Team stats\n",
    "team_features = ['teamId','win','firstBlood','firstTower',\n",
    "                 'firstInhibitor','firstBaron','firstDragon',\n",
    "                 'firstRiftHerald','towerKills','inhibitorKills',\n",
    "                 'baronKills','dragonKills','vilemawKills',\n",
    "                 'riftHeraldKills','dominionVictoryScore']"
   ]
  },
  {
   "cell_type": "code",
   "execution_count": null,
   "metadata": {},
   "outputs": [],
   "source": [
    "## team 0 and team 1\n",
    "match_details['matches'][0]['teams'][0]"
   ]
  },
  {
   "cell_type": "code",
   "execution_count": null,
   "metadata": {},
   "outputs": [],
   "source": [
    "import pandas as pd\n",
    "match_df = pd.DataFrame(columns = team_features)"
   ]
  },
  {
   "cell_type": "code",
   "execution_count": null,
   "metadata": {},
   "outputs": [],
   "source": [
    "#for i in range(len(match_details['matches'][0]['teams'])):\n",
    "    "
   ]
  },
  {
   "cell_type": "markdown",
   "metadata": {},
   "source": [
    "## individual stats from the provided seed datasets"
   ]
  },
  {
   "cell_type": "code",
   "execution_count": 41,
   "metadata": {},
   "outputs": [],
   "source": [
    "r = requests.get(url = 'https://s3-us-west-1.amazonaws.com/riot-developer-portal/seed-data/matches2.json')\n",
    "raw_data = r.json()"
   ]
  },
  {
   "cell_type": "code",
   "execution_count": 46,
   "metadata": {},
   "outputs": [
    {
     "data": {
      "text/plain": [
       "{'participantId': 1,\n",
       " 'teamId': 100,\n",
       " 'championId': 51,\n",
       " 'spell1Id': 7,\n",
       " 'spell2Id': 4,\n",
       " 'masteries': [{'masteryId': 6111, 'rank': 5},\n",
       "  {'masteryId': 6122, 'rank': 1},\n",
       "  {'masteryId': 6131, 'rank': 5},\n",
       "  {'masteryId': 6141, 'rank': 1},\n",
       "  {'masteryId': 6151, 'rank': 5},\n",
       "  {'masteryId': 6162, 'rank': 1},\n",
       "  {'masteryId': 6212, 'rank': 5},\n",
       "  {'masteryId': 6223, 'rank': 1},\n",
       "  {'masteryId': 6231, 'rank': 5},\n",
       "  {'masteryId': 6241, 'rank': 1}],\n",
       " 'runes': [{'runeId': 5247, 'rank': 8},\n",
       "  {'runeId': 5251, 'rank': 1},\n",
       "  {'runeId': 5289, 'rank': 9},\n",
       "  {'runeId': 5319, 'rank': 9},\n",
       "  {'runeId': 5335, 'rank': 3}],\n",
       " 'highestAchievedSeasonTier': 'PLATINUM',\n",
       " 'stats': {'participantId': 1,\n",
       "  'win': True,\n",
       "  'item0': 1055,\n",
       "  'item1': 3031,\n",
       "  'item2': 3085,\n",
       "  'item3': 3006,\n",
       "  'item4': 3094,\n",
       "  'item5': 0,\n",
       "  'item6': 3340,\n",
       "  'kills': 9,\n",
       "  'deaths': 5,\n",
       "  'assists': 6,\n",
       "  'largestKillingSpree': 4,\n",
       "  'largestMultiKill': 2,\n",
       "  'killingSprees': 2,\n",
       "  'longestTimeSpentLiving': 829,\n",
       "  'doubleKills': 1,\n",
       "  'tripleKills': 0,\n",
       "  'quadraKills': 0,\n",
       "  'pentaKills': 0,\n",
       "  'unrealKills': 0,\n",
       "  'totalDamageDealt': 149046,\n",
       "  'magicDamageDealt': 1704,\n",
       "  'physicalDamageDealt': 145970,\n",
       "  'trueDamageDealt': 1371,\n",
       "  'largestCriticalStrike': 1185,\n",
       "  'totalDamageDealtToChampions': 16268,\n",
       "  'magicDamageDealtToChampions': 390,\n",
       "  'physicalDamageDealtToChampions': 15214,\n",
       "  'trueDamageDealtToChampions': 663,\n",
       "  'totalHeal': 2156,\n",
       "  'totalUnitsHealed': 4,\n",
       "  'damageSelfMitigated': 6367,\n",
       "  'damageDealtToObjectives': 8182,\n",
       "  'damageDealtToTurrets': 5176,\n",
       "  'visionScore': 18,\n",
       "  'timeCCingOthers': 25,\n",
       "  'totalDamageTaken': 15784,\n",
       "  'magicalDamageTaken': 4383,\n",
       "  'physicalDamageTaken': 11080,\n",
       "  'trueDamageTaken': 320,\n",
       "  'goldEarned': 13024,\n",
       "  'goldSpent': 10400,\n",
       "  'turretKills': 2,\n",
       "  'inhibitorKills': 0,\n",
       "  'totalMinionsKilled': 199,\n",
       "  'neutralMinionsKilled': 9,\n",
       "  'neutralMinionsKilledTeamJungle': 6,\n",
       "  'neutralMinionsKilledEnemyJungle': 1,\n",
       "  'totalTimeCrowdControlDealt': 161,\n",
       "  'champLevel': 15,\n",
       "  'visionWardsBoughtInGame': 2,\n",
       "  'sightWardsBoughtInGame': 0,\n",
       "  'wardsPlaced': 10,\n",
       "  'wardsKilled': 3,\n",
       "  'firstBloodKill': False,\n",
       "  'firstBloodAssist': False,\n",
       "  'firstTowerKill': False,\n",
       "  'firstTowerAssist': False,\n",
       "  'firstInhibitorKill': False,\n",
       "  'firstInhibitorAssist': True,\n",
       "  'combatPlayerScore': 0,\n",
       "  'objectivePlayerScore': 0,\n",
       "  'totalPlayerScore': 0,\n",
       "  'totalScoreRank': 0,\n",
       "  'playerScore0': 0,\n",
       "  'playerScore1': 0,\n",
       "  'playerScore2': 0,\n",
       "  'playerScore3': 0,\n",
       "  'playerScore4': 0,\n",
       "  'playerScore5': 0,\n",
       "  'playerScore6': 0,\n",
       "  'playerScore7': 0,\n",
       "  'playerScore8': 0,\n",
       "  'playerScore9': 0},\n",
       " 'timeline': {'participantId': 1,\n",
       "  'creepsPerMinDeltas': {'10-20': 6.6, '0-10': 6.3, '20-30': 5.9},\n",
       "  'xpPerMinDeltas': {'10-20': 371.0, '0-10': 283.2, '20-30': 577.4},\n",
       "  'goldPerMinDeltas': {'10-20': 410.70000000000005,\n",
       "   '0-10': 222.2,\n",
       "   '20-30': 547.0},\n",
       "  'csDiffPerMinDeltas': {'10-20': -0.4500000000000004,\n",
       "   '0-10': -0.8000000000000003,\n",
       "   '20-30': -1.65},\n",
       "  'xpDiffPerMinDeltas': {'10-20': 62.30000000000001,\n",
       "   '0-10': -27.30000000000001,\n",
       "   '20-30': 28.80000000000001},\n",
       "  'damageTakenPerMinDeltas': {'10-20': 604.2, '0-10': 256.9, '20-30': 688.0},\n",
       "  'damageTakenDiffPerMinDeltas': {'10-20': -198.39999999999995,\n",
       "   '0-10': -42.75,\n",
       "   '20-30': -139.04999999999995},\n",
       "  'role': 'DUO_CARRY',\n",
       "  'lane': 'BOTTOM'}}"
      ]
     },
     "execution_count": 46,
     "metadata": {},
     "output_type": "execute_result"
    }
   ],
   "source": [
    "raw_data['matches'][0]['participants'][0]"
   ]
  },
  {
   "cell_type": "code",
   "execution_count": 47,
   "metadata": {},
   "outputs": [
    {
     "data": {
      "text/plain": [
       "{'participantId': 1,\n",
       " 'teamId': 100,\n",
       " 'championId': 51,\n",
       " 'spell1Id': 7,\n",
       " 'spell2Id': 4,\n",
       " 'masteries': [{'masteryId': 6111, 'rank': 5},\n",
       "  {'masteryId': 6122, 'rank': 1},\n",
       "  {'masteryId': 6131, 'rank': 5},\n",
       "  {'masteryId': 6141, 'rank': 1},\n",
       "  {'masteryId': 6151, 'rank': 5},\n",
       "  {'masteryId': 6162, 'rank': 1},\n",
       "  {'masteryId': 6212, 'rank': 5},\n",
       "  {'masteryId': 6223, 'rank': 1},\n",
       "  {'masteryId': 6231, 'rank': 5},\n",
       "  {'masteryId': 6241, 'rank': 1}],\n",
       " 'runes': [{'runeId': 5247, 'rank': 8},\n",
       "  {'runeId': 5251, 'rank': 1},\n",
       "  {'runeId': 5289, 'rank': 9},\n",
       "  {'runeId': 5319, 'rank': 9},\n",
       "  {'runeId': 5335, 'rank': 3}],\n",
       " 'highestAchievedSeasonTier': 'PLATINUM',\n",
       " 'stats': {'participantId': 1,\n",
       "  'win': True,\n",
       "  'item0': 1055,\n",
       "  'item1': 3031,\n",
       "  'item2': 3085,\n",
       "  'item3': 3006,\n",
       "  'item4': 3094,\n",
       "  'item5': 0,\n",
       "  'item6': 3340,\n",
       "  'kills': 9,\n",
       "  'deaths': 5,\n",
       "  'assists': 6,\n",
       "  'largestKillingSpree': 4,\n",
       "  'largestMultiKill': 2,\n",
       "  'killingSprees': 2,\n",
       "  'longestTimeSpentLiving': 829,\n",
       "  'doubleKills': 1,\n",
       "  'tripleKills': 0,\n",
       "  'quadraKills': 0,\n",
       "  'pentaKills': 0,\n",
       "  'unrealKills': 0,\n",
       "  'totalDamageDealt': 149046,\n",
       "  'magicDamageDealt': 1704,\n",
       "  'physicalDamageDealt': 145970,\n",
       "  'trueDamageDealt': 1371,\n",
       "  'largestCriticalStrike': 1185,\n",
       "  'totalDamageDealtToChampions': 16268,\n",
       "  'magicDamageDealtToChampions': 390,\n",
       "  'physicalDamageDealtToChampions': 15214,\n",
       "  'trueDamageDealtToChampions': 663,\n",
       "  'totalHeal': 2156,\n",
       "  'totalUnitsHealed': 4,\n",
       "  'damageSelfMitigated': 6367,\n",
       "  'damageDealtToObjectives': 8182,\n",
       "  'damageDealtToTurrets': 5176,\n",
       "  'visionScore': 18,\n",
       "  'timeCCingOthers': 25,\n",
       "  'totalDamageTaken': 15784,\n",
       "  'magicalDamageTaken': 4383,\n",
       "  'physicalDamageTaken': 11080,\n",
       "  'trueDamageTaken': 320,\n",
       "  'goldEarned': 13024,\n",
       "  'goldSpent': 10400,\n",
       "  'turretKills': 2,\n",
       "  'inhibitorKills': 0,\n",
       "  'totalMinionsKilled': 199,\n",
       "  'neutralMinionsKilled': 9,\n",
       "  'neutralMinionsKilledTeamJungle': 6,\n",
       "  'neutralMinionsKilledEnemyJungle': 1,\n",
       "  'totalTimeCrowdControlDealt': 161,\n",
       "  'champLevel': 15,\n",
       "  'visionWardsBoughtInGame': 2,\n",
       "  'sightWardsBoughtInGame': 0,\n",
       "  'wardsPlaced': 10,\n",
       "  'wardsKilled': 3,\n",
       "  'firstBloodKill': False,\n",
       "  'firstBloodAssist': False,\n",
       "  'firstTowerKill': False,\n",
       "  'firstTowerAssist': False,\n",
       "  'firstInhibitorKill': False,\n",
       "  'firstInhibitorAssist': True,\n",
       "  'combatPlayerScore': 0,\n",
       "  'objectivePlayerScore': 0,\n",
       "  'totalPlayerScore': 0,\n",
       "  'totalScoreRank': 0,\n",
       "  'playerScore0': 0,\n",
       "  'playerScore1': 0,\n",
       "  'playerScore2': 0,\n",
       "  'playerScore3': 0,\n",
       "  'playerScore4': 0,\n",
       "  'playerScore5': 0,\n",
       "  'playerScore6': 0,\n",
       "  'playerScore7': 0,\n",
       "  'playerScore8': 0,\n",
       "  'playerScore9': 0},\n",
       " 'timeline': {'participantId': 1,\n",
       "  'creepsPerMinDeltas': {'10-20': 6.6, '0-10': 6.3, '20-30': 5.9},\n",
       "  'xpPerMinDeltas': {'10-20': 371.0, '0-10': 283.2, '20-30': 577.4},\n",
       "  'goldPerMinDeltas': {'10-20': 410.70000000000005,\n",
       "   '0-10': 222.2,\n",
       "   '20-30': 547.0},\n",
       "  'csDiffPerMinDeltas': {'10-20': -0.4500000000000004,\n",
       "   '0-10': -0.8000000000000003,\n",
       "   '20-30': -1.65},\n",
       "  'xpDiffPerMinDeltas': {'10-20': 62.30000000000001,\n",
       "   '0-10': -27.30000000000001,\n",
       "   '20-30': 28.80000000000001},\n",
       "  'damageTakenPerMinDeltas': {'10-20': 604.2, '0-10': 256.9, '20-30': 688.0},\n",
       "  'damageTakenDiffPerMinDeltas': {'10-20': -198.39999999999995,\n",
       "   '0-10': -42.75,\n",
       "   '20-30': -139.04999999999995},\n",
       "  'role': 'DUO_CARRY',\n",
       "  'lane': 'BOTTOM'}}"
      ]
     },
     "execution_count": 47,
     "metadata": {},
     "output_type": "execute_result"
    }
   ],
   "source": [
    "raw_data['matches'][0]['participants'][0]"
   ]
  },
  {
   "cell_type": "code",
   "execution_count": 51,
   "metadata": {},
   "outputs": [
    {
     "data": {
      "text/plain": [
       "'PLATINUM'"
      ]
     },
     "execution_count": 51,
     "metadata": {},
     "output_type": "execute_result"
    }
   ],
   "source": [
    "raw_data['matches'][0]['participants'][0]['highestAchievedSeasonTier']"
   ]
  },
  {
   "cell_type": "code",
   "execution_count": 52,
   "metadata": {},
   "outputs": [
    {
     "data": {
      "text/plain": [
       "'DUO_CARRY'"
      ]
     },
     "execution_count": 52,
     "metadata": {},
     "output_type": "execute_result"
    }
   ],
   "source": [
    "raw_data['matches'][0]['participants'][0]['timeline']['role']"
   ]
  },
  {
   "cell_type": "code",
   "execution_count": 54,
   "metadata": {},
   "outputs": [
    {
     "data": {
      "text/plain": [
       "'BOTTOM'"
      ]
     },
     "execution_count": 54,
     "metadata": {},
     "output_type": "execute_result"
    }
   ],
   "source": [
    "raw_data['matches'][0]['participants'][0]['timeline']['lane']"
   ]
  },
  {
   "cell_type": "code",
   "execution_count": 57,
   "metadata": {},
   "outputs": [],
   "source": [
    "def seed_csv():\n",
    "    \"\"\"\n",
    "    This function extracts seed match data from the developer's s3 bucket\n",
    "    and converts and saves as a csv file\n",
    "    \n",
    "    input:  empty list\n",
    "    output: list of feature names for the csv file\n",
    "    \"\"\"\n",
    "    import json\n",
    "    import requests\n",
    "    import pandas as pd\n",
    "    from pathlib import Path\n",
    "    \n",
    "    ## Extracting from all 10 seed match data\n",
    "    key_list = []\n",
    "    match_stats_list = []\n",
    "\n",
    "    for num in range(1,11):\n",
    "        \n",
    "        r = requests.get(url = f'https://s3-us-west-1.amazonaws.com/riot-developer-portal/seed-data/matches{num}.json')\n",
    "        match_details = r.json()\n",
    "        \n",
    "        # check for and set up keys\n",
    "        if len(key_list) < 1:\n",
    "            for i in match_details['matches'][0]['participants'][0]['stats'].keys():\n",
    "                key_list.append(i)\n",
    "            key_list.append('highestAchievedSeasonTier')\n",
    "            key_list.append('role')\n",
    "            key_list.append('lane')\n",
    "        # Remove unnecessary features\n",
    "\n",
    "        print(f'match number: {num}')\n",
    "        # populate match_stats_list \n",
    "        for match_i in range(len(match_details['matches'])) :\n",
    "            \n",
    "            for participant_i in range(len(match_details['matches'][match_i]['participants'])):\n",
    "                match_stats_dict = {}\n",
    "                \n",
    "                for key in key_list:\n",
    "                    try:\n",
    "                        match_stats_dict[key] = match_details['matches'][match_i]['participants'][participant_i]['stats'][key]\n",
    "                    except:\n",
    "                        try: ## looking for highest achieved season tier\n",
    "                            match_stats_dict[key] = match_details['matches'][match_i]['participants'][participant_i][key]\n",
    "                        except:\n",
    "                            try:  ## looking for role and lane\n",
    "                                match_stats_dict[key] = match_details['matches'][match_i]['participants'][participant_i]['timeline'][key]\n",
    "                            except: ## input null \n",
    "                                if not key in key_list:\n",
    "                                    match_stats_dict[key] = None\n",
    "                match_stats_list.append(match_stats_dict)\n",
    "    \n",
    "    # Converting the list to a pandas dataframe before saving it as a csv file\n",
    "    my_file = Path(\"../data/seed_data.csv\")\n",
    "    \n",
    "    if not my_file.is_file():\n",
    "        match_stats_df = pd.DataFrame(match_stats_list)\n",
    "        match_stats_df.to_csv('../data/seed_data.csv')    \n",
    "        \n",
    "    return key_list"
   ]
  },
  {
   "cell_type": "code",
   "execution_count": 58,
   "metadata": {},
   "outputs": [
    {
     "name": "stdout",
     "output_type": "stream",
     "text": [
      "match number: 1\n",
      "match number: 2\n",
      "match number: 3\n",
      "match number: 4\n",
      "match number: 5\n",
      "match number: 6\n",
      "match number: 7\n",
      "match number: 8\n",
      "match number: 9\n",
      "match number: 10\n"
     ]
    }
   ],
   "source": [
    "seed_df = seed_csv()"
   ]
  },
  {
   "cell_type": "markdown",
   "metadata": {},
   "source": [
    "## Extracting match details from Korean match ids"
   ]
  },
  {
   "cell_type": "code",
   "execution_count": 26,
   "metadata": {},
   "outputs": [
    {
     "data": {
      "text/plain": [
       "200"
      ]
     },
     "execution_count": 26,
     "metadata": {},
     "output_type": "execute_result"
    }
   ],
   "source": [
    "## api status check\n",
    "import requests\n",
    "r = requests.get(f'https://kr.api.riotgames.com/lol/summoner/v4/summoners/by-name/faker?api_key={api_key}')\n",
    "r.status_code"
   ]
  },
  {
   "cell_type": "code",
   "execution_count": null,
   "metadata": {},
   "outputs": [],
   "source": []
  },
  {
   "cell_type": "code",
   "execution_count": null,
   "metadata": {},
   "outputs": [],
   "source": []
  },
  {
   "cell_type": "code",
   "execution_count": 20,
   "metadata": {},
   "outputs": [],
   "source": [
    "demo_ids = ['4366059781', '4366059798', '4366059814', \n",
    "            '4366059822', '4366059865', '4366059892', \n",
    "            '4366059918', '4366059925', '4366059934', \n",
    "            '4366059955', '4366059956', '4366059965']"
   ]
  },
  {
   "cell_type": "code",
   "execution_count": 75,
   "metadata": {},
   "outputs": [],
   "source": [
    "def api_csv(api_key):\n",
    "    import time\n",
    "    import requests\n",
    "    from pathlib import Path\n",
    "    import pandas as pd\n",
    "    \"\"\"\n",
    "    CALL LIMITS FOR RIOT GAMES API\n",
    "\n",
    "    100 calls per second\n",
    "\n",
    "    1000 calls per 10 seconds\n",
    "\n",
    "    60,000 calls per 10 minutes (600 seconds)\n",
    "    \n",
    "    input: api key (list)\n",
    "    output: pandas dataframe\n",
    "    \"\"\"\n",
    "    # Requesting match IDs \n",
    "    r = requests.get(url = 'http://canisback.com/matchId/matchlist_kr.json')   \n",
    "    match_ids = r.json()\n",
    "    \n",
    "    kr_keys = []\n",
    "\n",
    "    for num, match_id in enumerate(match_ids):\n",
    "    \n",
    "        n = 0\n",
    "\n",
    "        if n % 80 == 0:\n",
    "            time.sleep(1)\n",
    "            pass\n",
    "\n",
    "        elif n % 900 == 0:\n",
    "            time.sleep(10)\n",
    "            pass\n",
    "\n",
    "        elif n % 25000 == 0:\n",
    "            time.sleep(600)\n",
    "            pass\n",
    "\n",
    "        else:\n",
    "            pass\n",
    "        \n",
    "        match_stats_list = []\n",
    "\n",
    "        # Calls API\n",
    "        response = requests.get(f'https://kr.api.riotgames.com/lol/match/v4/matches/{match_id}?api_key={api_key}')\n",
    "        #print(response.status_code)\n",
    "\n",
    "\n",
    "        # Counting API calls\n",
    "        n+=1\n",
    "\n",
    "        # Formating the api call \n",
    "        kr_match_details = response.json()\n",
    "        \n",
    "        # check for and set up feature names as keys\n",
    "        if len(kr_keys) < 1:\n",
    "            kr_keys = []\n",
    "            for i in kr_match_details['participants'][0]['stats'].keys():\n",
    "                kr_keys.append(i)\n",
    "            kr_keys.append('highestAchievedSeasonTier')\n",
    "            kr_keys.append('role')\n",
    "            kr_keys.append('lane')\n",
    "        #print(f'seed dataset number: {num}')\n",
    "\n",
    "        ## Adding \n",
    "        for participant_i in range(len(kr_match_details['participants'])):\n",
    "        #    print(f'participant number: {participant_i}')\n",
    "            kr_match_stats_dict = {}\n",
    "\n",
    "            for key in kr_keys:\n",
    "                try:\n",
    "                    kr_match_stats_dict[key] = kr_match_details['participants'][participant_i]['stats'][key]\n",
    "                except:\n",
    "                    try: ## looking for highest achieved season tier\n",
    "                        kr_match_stats_dict[key] = kr_match_details['participants'][participant_i][key]\n",
    "                    except:\n",
    "                        try:  ## looking for roles and lanes\n",
    "                            kr_match_stats_dict[key] = kr_match_details['participants'][participant_i]['timeline'][key]\n",
    "                        except: ## input null \n",
    "                            if not key in key_list:\n",
    "                                kr_match_stats_dict[key] = None\n",
    "\n",
    "            match_stats_list.append(kr_match_stats_dict)            \n",
    "\n",
    "        # Checking if a csv file exists before appending the data\n",
    "        my_file = Path(\"../data/kr_data.csv\")\n",
    "        match_stats_df = pd.DataFrame(match_stats_list)\n",
    "\n",
    "        # Create a csv file if it does not exist\n",
    "        if not my_file.is_file():\n",
    "            match_stats_df = pd.DataFrame(match_stats_list)\n",
    "            match_stats_df.to_csv('../data/kr_data.csv')\n",
    "\n",
    "        # Append data onto the existing csv file\n",
    "        else:\n",
    "            match_stats_df = pd.DataFrame(match_stats_list)\n",
    "            match_stats_df.to_csv('../data/kr_data.csv',header=None,mode='a')\n",
    "    return match_stats_df"
   ]
  },
  {
   "cell_type": "code",
   "execution_count": 77,
   "metadata": {},
   "outputs": [
    {
     "ename": "KeyError",
     "evalue": "'participants'",
     "output_type": "error",
     "traceback": [
      "\u001b[0;31m---------------------------------------------------------------------------\u001b[0m",
      "\u001b[0;31mKeyError\u001b[0m                                  Traceback (most recent call last)",
      "\u001b[0;32m<ipython-input-77-d581833838aa>\u001b[0m in \u001b[0;36m<module>\u001b[0;34m\u001b[0m\n\u001b[0;32m----> 1\u001b[0;31m \u001b[0mkr_df\u001b[0m \u001b[0;34m=\u001b[0m \u001b[0mapi_csv\u001b[0m\u001b[0;34m(\u001b[0m\u001b[0mapi_key\u001b[0m\u001b[0;34m=\u001b[0m\u001b[0mapi_key\u001b[0m\u001b[0;34m)\u001b[0m\u001b[0;34m\u001b[0m\u001b[0;34m\u001b[0m\u001b[0m\n\u001b[0m",
      "\u001b[0;32m<ipython-input-75-53f338882ab3>\u001b[0m in \u001b[0;36mapi_csv\u001b[0;34m(api_key)\u001b[0m\n\u001b[1;32m     65\u001b[0m \u001b[0;34m\u001b[0m\u001b[0m\n\u001b[1;32m     66\u001b[0m         \u001b[0;31m## Adding\u001b[0m\u001b[0;34m\u001b[0m\u001b[0;34m\u001b[0m\u001b[0;34m\u001b[0m\u001b[0m\n\u001b[0;32m---> 67\u001b[0;31m         \u001b[0;32mfor\u001b[0m \u001b[0mparticipant_i\u001b[0m \u001b[0;32min\u001b[0m \u001b[0mrange\u001b[0m\u001b[0;34m(\u001b[0m\u001b[0mlen\u001b[0m\u001b[0;34m(\u001b[0m\u001b[0mkr_match_details\u001b[0m\u001b[0;34m[\u001b[0m\u001b[0;34m'participants'\u001b[0m\u001b[0;34m]\u001b[0m\u001b[0;34m)\u001b[0m\u001b[0;34m)\u001b[0m\u001b[0;34m:\u001b[0m\u001b[0;34m\u001b[0m\u001b[0;34m\u001b[0m\u001b[0m\n\u001b[0m\u001b[1;32m     68\u001b[0m         \u001b[0;31m#    print(f'participant number: {participant_i}')\u001b[0m\u001b[0;34m\u001b[0m\u001b[0;34m\u001b[0m\u001b[0;34m\u001b[0m\u001b[0m\n\u001b[1;32m     69\u001b[0m             \u001b[0mkr_match_stats_dict\u001b[0m \u001b[0;34m=\u001b[0m \u001b[0;34m{\u001b[0m\u001b[0;34m}\u001b[0m\u001b[0;34m\u001b[0m\u001b[0;34m\u001b[0m\u001b[0m\n",
      "\u001b[0;31mKeyError\u001b[0m: 'participants'"
     ]
    }
   ],
   "source": [
    "kr_df = api_csv(api_key=api_key)"
   ]
  },
  {
   "cell_type": "code",
   "execution_count": 40,
   "metadata": {},
   "outputs": [
    {
     "ename": "NameError",
     "evalue": "name 'kr_data' is not defined",
     "output_type": "error",
     "traceback": [
      "\u001b[0;31m---------------------------------------------------------------------------\u001b[0m",
      "\u001b[0;31mNameError\u001b[0m                                 Traceback (most recent call last)",
      "\u001b[0;32m<ipython-input-40-ef7e51455687>\u001b[0m in \u001b[0;36m<module>\u001b[0;34m\u001b[0m\n\u001b[0;32m----> 1\u001b[0;31m \u001b[0mkr_data\u001b[0m\u001b[0;34m.\u001b[0m\u001b[0mcolumns\u001b[0m\u001b[0;34m\u001b[0m\u001b[0;34m\u001b[0m\u001b[0m\n\u001b[0m",
      "\u001b[0;31mNameError\u001b[0m: name 'kr_data' is not defined"
     ]
    }
   ],
   "source": [
    "kr_data.columns"
   ]
  },
  {
   "cell_type": "code",
   "execution_count": 125,
   "metadata": {},
   "outputs": [],
   "source": [
    "def api_csv2(api_key):\n",
    "    import time\n",
    "    import requests\n",
    "    from pathlib import Path\n",
    "    import pandas as pd\n",
    "    \"\"\"\n",
    "    CALL LIMITS FOR RIOT GAMES API\n",
    "\n",
    "    20 calls per second\n",
    "    \n",
    "    100 calls per 120 seconds\n",
    "    \n",
    "    60,000 calls per 10 minutes (600 seconds)\n",
    "    \n",
    "    input: api key (list)\n",
    "    output: pandas dataframe\n",
    "    \"\"\"\n",
    "    # Requesting match IDs \n",
    "    r = requests.get(url = 'http://canisback.com/matchId/matchlist_kr.json')   \n",
    "    match_ids = r.json()\n",
    "    \n",
    "    kr_keys = []\n",
    "    n = 1128\n",
    "    \n",
    "    temp_n = 0\n",
    "    \n",
    "    match_ids[1128:]\n",
    "    for num, match_id in enumerate(match_ids):\n",
    "    \n",
    "\n",
    "        if n % 15 == 0:\n",
    "            time.sleep(1)\n",
    "            pass\n",
    "        \n",
    "        elif n% 30 == 0:\n",
    "            time.sleep(60)\n",
    "            pass\n",
    "        \n",
    "        elif n % 80 == 0:\n",
    "            time.sleep(120)\n",
    "            pass\n",
    "        \n",
    "        elif n % 200 == 0:\n",
    "            time.sleep(300)\n",
    "            pass\n",
    "    \n",
    "        elif n % 350 == 0:\n",
    "            time.sleep(500)\n",
    "            pass\n",
    "        \n",
    "        elif n % 500 == 0:\n",
    "            time.sleep(600)\n",
    "            pass\n",
    "        \n",
    "        \n",
    "        match_stats_list = []\n",
    "\n",
    "        # Calls API\n",
    "        response = requests.get(f'https://kr.api.riotgames.com/lol/match/v4/matches/{match_id}?api_key={api_key}')\n",
    "        #print(response.status_code)\n",
    "\n",
    "\n",
    "        # Counting API calls\n",
    "        n+=1\n",
    "        # Formating the api call \n",
    "        kr_match_details = response.json()\n",
    "        \n",
    "        # check for and set up feature names as keys\n",
    "        if len(kr_keys) < 1:\n",
    "            for i in kr_match_details['participants'][0]['stats'].keys():\n",
    "                kr_keys.append(i)\n",
    "            kr_keys.append('highestAchievedSeasonTier')\n",
    "            kr_keys.append('role')\n",
    "            kr_keys.append('lane')\n",
    "        #print(f'seed dataset number: {num}')\n",
    "\n",
    "        ## Adding \n",
    "        try:\n",
    "            for participant_i in range(len(kr_match_details['participants'])):\n",
    "                kr_match_stats_dict = {}\n",
    "\n",
    "                for key in kr_keys:\n",
    "                    try:\n",
    "                        kr_match_stats_dict[key] = kr_match_details['participants'][participant_i]['stats'][key]\n",
    "                    except:\n",
    "                        try: ## looking for highest achieved season tier\n",
    "                            kr_match_stats_dict[key] = kr_match_details['participants'][participant_i][key]\n",
    "                        except:\n",
    "                            try:  ## looking for roles and lanes\n",
    "                                kr_match_stats_dict[key] = kr_match_details['participants'][participant_i]['timeline'][key]\n",
    "                            except: ## input null \n",
    "                                kr_match_stats_dict[key] = None\n",
    "\n",
    "                match_stats_list.append(kr_match_stats_dict)            \n",
    "\n",
    "            # Checking if a csv file exists before appending the data\n",
    "            my_file = Path(\"../data/kr_data.csv\")\n",
    "            match_stats_df = pd.DataFrame(match_stats_list)\n",
    "\n",
    "            # Create a csv file if it does not exist\n",
    "            if not my_file.is_file():\n",
    "                match_stats_df = pd.DataFrame(match_stats_list)\n",
    "                match_stats_df.to_csv('../data/kr_data.csv')\n",
    "\n",
    "            # Append data onto the existing csv file\n",
    "            else:\n",
    "                match_stats_df = pd.DataFrame(match_stats_list)\n",
    "                match_stats_df.to_csv('../data/kr_data.csv',header=None,mode='a')\n",
    "        except:\n",
    "            print(response.status_code)\n",
    "            print(n)\n",
    "            \n",
    "            temp_n += 1\n",
    "            if response.status_code == 429 and temp_n < 3:\n",
    "                time.sleep(300)\n",
    "                pass\n",
    "            elif response.status_code == 429 and temp_n >= 3 and temp_n < 7:\n",
    "                time.sleep(500)\n",
    "                pass\n",
    "            elif temp_n >= 7:\n",
    "                print('breaking due to excessive number of pulls')\n",
    "                print(n)\n",
    "                break\n",
    "            else:\n",
    "                print('other api issues')\n",
    "                print(n)\n",
    "                break\n",
    "    print('Data scraping complete')"
   ]
  },
  {
   "cell_type": "code",
   "execution_count": 126,
   "metadata": {},
   "outputs": [
    {
     "name": "stdout",
     "output_type": "stream",
     "text": [
      "429\n",
      "1228\n"
     ]
    },
    {
     "ename": "KeyboardInterrupt",
     "evalue": "",
     "output_type": "error",
     "traceback": [
      "\u001b[0;31m---------------------------------------------------------------------------\u001b[0m",
      "\u001b[0;31mKeyError\u001b[0m                                  Traceback (most recent call last)",
      "\u001b[0;32m<ipython-input-125-eabc9df86082>\u001b[0m in \u001b[0;36mapi_csv2\u001b[0;34m(api_key)\u001b[0m\n\u001b[1;32m     78\u001b[0m         \u001b[0;32mtry\u001b[0m\u001b[0;34m:\u001b[0m\u001b[0;34m\u001b[0m\u001b[0;34m\u001b[0m\u001b[0m\n\u001b[0;32m---> 79\u001b[0;31m             \u001b[0;32mfor\u001b[0m \u001b[0mparticipant_i\u001b[0m \u001b[0;32min\u001b[0m \u001b[0mrange\u001b[0m\u001b[0;34m(\u001b[0m\u001b[0mlen\u001b[0m\u001b[0;34m(\u001b[0m\u001b[0mkr_match_details\u001b[0m\u001b[0;34m[\u001b[0m\u001b[0;34m'participants'\u001b[0m\u001b[0;34m]\u001b[0m\u001b[0;34m)\u001b[0m\u001b[0;34m)\u001b[0m\u001b[0;34m:\u001b[0m\u001b[0;34m\u001b[0m\u001b[0;34m\u001b[0m\u001b[0m\n\u001b[0m\u001b[1;32m     80\u001b[0m                 \u001b[0mkr_match_stats_dict\u001b[0m \u001b[0;34m=\u001b[0m \u001b[0;34m{\u001b[0m\u001b[0;34m}\u001b[0m\u001b[0;34m\u001b[0m\u001b[0;34m\u001b[0m\u001b[0m\n",
      "\u001b[0;31mKeyError\u001b[0m: 'participants'",
      "\nDuring handling of the above exception, another exception occurred:\n",
      "\u001b[0;31mKeyboardInterrupt\u001b[0m                         Traceback (most recent call last)",
      "\u001b[0;32m<ipython-input-126-123b87c91ea6>\u001b[0m in \u001b[0;36m<module>\u001b[0;34m\u001b[0m\n\u001b[0;32m----> 1\u001b[0;31m \u001b[0mapi_csv2\u001b[0m\u001b[0;34m(\u001b[0m\u001b[0mapi_key\u001b[0m\u001b[0;34m)\u001b[0m\u001b[0;34m\u001b[0m\u001b[0;34m\u001b[0m\u001b[0m\n\u001b[0m",
      "\u001b[0;32m<ipython-input-125-eabc9df86082>\u001b[0m in \u001b[0;36mapi_csv2\u001b[0;34m(api_key)\u001b[0m\n\u001b[1;32m    113\u001b[0m             \u001b[0mtemp_n\u001b[0m \u001b[0;34m+=\u001b[0m \u001b[0;36m1\u001b[0m\u001b[0;34m\u001b[0m\u001b[0;34m\u001b[0m\u001b[0m\n\u001b[1;32m    114\u001b[0m             \u001b[0;32mif\u001b[0m \u001b[0mresponse\u001b[0m\u001b[0;34m.\u001b[0m\u001b[0mstatus_code\u001b[0m \u001b[0;34m==\u001b[0m \u001b[0;36m429\u001b[0m \u001b[0;32mand\u001b[0m \u001b[0mtemp_n\u001b[0m \u001b[0;34m<\u001b[0m \u001b[0;36m3\u001b[0m\u001b[0;34m:\u001b[0m\u001b[0;34m\u001b[0m\u001b[0;34m\u001b[0m\u001b[0m\n\u001b[0;32m--> 115\u001b[0;31m                 \u001b[0mtime\u001b[0m\u001b[0;34m.\u001b[0m\u001b[0msleep\u001b[0m\u001b[0;34m(\u001b[0m\u001b[0;36m300\u001b[0m\u001b[0;34m)\u001b[0m\u001b[0;34m\u001b[0m\u001b[0;34m\u001b[0m\u001b[0m\n\u001b[0m\u001b[1;32m    116\u001b[0m                 \u001b[0;32mpass\u001b[0m\u001b[0;34m\u001b[0m\u001b[0;34m\u001b[0m\u001b[0m\n\u001b[1;32m    117\u001b[0m             \u001b[0;32melif\u001b[0m \u001b[0mresponse\u001b[0m\u001b[0;34m.\u001b[0m\u001b[0mstatus_code\u001b[0m \u001b[0;34m==\u001b[0m \u001b[0;36m429\u001b[0m \u001b[0;32mand\u001b[0m \u001b[0mtemp_n\u001b[0m \u001b[0;34m>=\u001b[0m \u001b[0;36m3\u001b[0m \u001b[0;32mand\u001b[0m \u001b[0mtemp_n\u001b[0m \u001b[0;34m<\u001b[0m \u001b[0;36m7\u001b[0m\u001b[0;34m:\u001b[0m\u001b[0;34m\u001b[0m\u001b[0;34m\u001b[0m\u001b[0m\n",
      "\u001b[0;31mKeyboardInterrupt\u001b[0m: "
     ]
    }
   ],
   "source": [
    "api_csv2(api_key)"
   ]
  },
  {
   "cell_type": "code",
   "execution_count": 109,
   "metadata": {},
   "outputs": [],
   "source": [
    "r = requests.get(url = 'http://canisback.com/matchId/matchlist_kr.json')   \n",
    "match_ids = r.json()"
   ]
  },
  {
   "cell_type": "code",
   "execution_count": 120,
   "metadata": {},
   "outputs": [
    {
     "data": {
      "text/plain": [
       "9855"
      ]
     },
     "execution_count": 120,
     "metadata": {},
     "output_type": "execute_result"
    }
   ],
   "source": [
    "len(match_ids[145:])"
   ]
  },
  {
   "cell_type": "code",
   "execution_count": 111,
   "metadata": {},
   "outputs": [
    {
     "data": {
      "text/plain": [
       "4366079857"
      ]
     },
     "execution_count": 111,
     "metadata": {},
     "output_type": "execute_result"
    }
   ],
   "source": [
    "match_ids[144]"
   ]
  },
  {
   "cell_type": "code",
   "execution_count": null,
   "metadata": {},
   "outputs": [],
   "source": []
  }
 ],
 "metadata": {
  "kernelspec": {
   "display_name": "Python 3",
   "language": "python",
   "name": "python3"
  },
  "language_info": {
   "codemirror_mode": {
    "name": "ipython",
    "version": 3
   },
   "file_extension": ".py",
   "mimetype": "text/x-python",
   "name": "python",
   "nbconvert_exporter": "python",
   "pygments_lexer": "ipython3",
   "version": "3.7.6"
  }
 },
 "nbformat": 4,
 "nbformat_minor": 4
}

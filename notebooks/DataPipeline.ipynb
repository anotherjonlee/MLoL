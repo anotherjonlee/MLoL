{
 "cells": [
  {
   "cell_type": "code",
   "execution_count": 1,
   "metadata": {},
   "outputs": [],
   "source": [
    "import pandas as pd\n",
    "import numpy as np\n",
    "import scipy.stats as stats\n",
    "import matplotlib.pyplot as plt\n",
    "import seaborn as sns\n",
    "%matplotlib inline\n",
    "plt.style.use('ggplot')"
   ]
  },
  {
   "cell_type": "code",
   "execution_count": 6,
   "metadata": {},
   "outputs": [],
   "source": [
    "import sys\n",
    "sys.path.append(\"..\") ## resetting the path to the parent directory"
   ]
  },
  {
   "cell_type": "code",
   "execution_count": 7,
   "metadata": {},
   "outputs": [],
   "source": [
    "from src.pipeline import *"
   ]
  },
  {
   "cell_type": "code",
   "execution_count": 10,
   "metadata": {},
   "outputs": [
    {
     "name": "stderr",
     "output_type": "stream",
     "text": [
      "/Users/anotherjonlee/opt/anaconda3/lib/python3.7/site-packages/IPython/core/interactiveshell.py:3063: DtypeWarning: Columns (56,57,58,59) have mixed types.Specify dtype option on import or set low_memory=False.\n",
      "  interactivity=interactivity, compiler=compiler, result=result)\n"
     ]
    }
   ],
   "source": [
    "seed_df = pd.read_csv('../data/seed_data.csv')"
   ]
  },
  {
   "cell_type": "code",
   "execution_count": 22,
   "metadata": {},
   "outputs": [
    {
     "data": {
      "text/plain": [
       "Index(['firstBloodKill', 'firstBloodAssist', 'firstTowerKill',\n",
       "       'firstTowerAssist'],\n",
       "      dtype='object')"
      ]
     },
     "execution_count": 22,
     "metadata": {},
     "output_type": "execute_result"
    }
   ],
   "source": [
    "seed_df.columns[56:60]"
   ]
  },
  {
   "cell_type": "code",
   "execution_count": 27,
   "metadata": {},
   "outputs": [
    {
     "data": {
      "text/plain": [
       "firstInhibitorAssist              780\n",
       "firstInhibitorKill                780\n",
       "firstTowerKill                    290\n",
       "firstTowerAssist                  290\n",
       "firstBloodAssist                  130\n",
       "firstBloodKill                    130\n",
       "physicalDamageDealtToChampions      0\n",
       "pentaKills                          0\n",
       "tripleKills                         0\n",
       "damageSelfMitigated                 0\n",
       "dtype: int64"
      ]
     },
     "execution_count": 27,
     "metadata": {},
     "output_type": "execute_result"
    }
   ],
   "source": [
    "seed_df.isnull().sum().sort_values(ascending=False)[:10]"
   ]
  },
  {
   "cell_type": "code",
   "execution_count": 19,
   "metadata": {},
   "outputs": [],
   "source": [
    "def feature_separator(df):\n",
    "    numeric_features = []\n",
    "    cat_features = []\n",
    "\n",
    "    for col in df.columns[3:]:\n",
    "        if df[col].dtype == 'int64':\n",
    "            numeric_features.append(col)\n",
    "        else:\n",
    "            cat_features.append(col)\n",
    "    return numeric_features,cat_features"
   ]
  },
  {
   "cell_type": "code",
   "execution_count": 16,
   "metadata": {},
   "outputs": [
    {
     "data": {
      "text/plain": [
       "['firstBloodKill',\n",
       " 'firstBloodAssist',\n",
       " 'firstTowerKill',\n",
       " 'firstTowerAssist',\n",
       " 'firstInhibitorKill',\n",
       " 'firstInhibitorAssist',\n",
       " 'highestAchievedSeasonTier',\n",
       " 'role',\n",
       " 'lane']"
      ]
     },
     "execution_count": 16,
     "metadata": {},
     "output_type": "execute_result"
    }
   ],
   "source": [
    "cat_features"
   ]
  },
  {
   "cell_type": "code",
   "execution_count": 17,
   "metadata": {},
   "outputs": [
    {
     "data": {
      "text/plain": [
       "['item0',\n",
       " 'item1',\n",
       " 'item2',\n",
       " 'item3',\n",
       " 'item4',\n",
       " 'item5',\n",
       " 'item6',\n",
       " 'kills',\n",
       " 'deaths',\n",
       " 'assists',\n",
       " 'largestKillingSpree',\n",
       " 'largestMultiKill',\n",
       " 'killingSprees',\n",
       " 'longestTimeSpentLiving',\n",
       " 'doubleKills',\n",
       " 'tripleKills',\n",
       " 'quadraKills',\n",
       " 'pentaKills',\n",
       " 'unrealKills',\n",
       " 'totalDamageDealt',\n",
       " 'magicDamageDealt',\n",
       " 'physicalDamageDealt',\n",
       " 'trueDamageDealt',\n",
       " 'largestCriticalStrike',\n",
       " 'totalDamageDealtToChampions',\n",
       " 'magicDamageDealtToChampions',\n",
       " 'physicalDamageDealtToChampions',\n",
       " 'trueDamageDealtToChampions',\n",
       " 'totalHeal',\n",
       " 'totalUnitsHealed',\n",
       " 'damageSelfMitigated',\n",
       " 'damageDealtToObjectives',\n",
       " 'damageDealtToTurrets',\n",
       " 'visionScore',\n",
       " 'timeCCingOthers',\n",
       " 'totalDamageTaken',\n",
       " 'magicalDamageTaken',\n",
       " 'physicalDamageTaken',\n",
       " 'trueDamageTaken',\n",
       " 'goldEarned',\n",
       " 'goldSpent',\n",
       " 'turretKills',\n",
       " 'inhibitorKills',\n",
       " 'totalMinionsKilled',\n",
       " 'neutralMinionsKilled',\n",
       " 'neutralMinionsKilledTeamJungle',\n",
       " 'neutralMinionsKilledEnemyJungle',\n",
       " 'totalTimeCrowdControlDealt',\n",
       " 'champLevel',\n",
       " 'visionWardsBoughtInGame',\n",
       " 'sightWardsBoughtInGame',\n",
       " 'wardsPlaced',\n",
       " 'wardsKilled',\n",
       " 'combatPlayerScore',\n",
       " 'objectivePlayerScore',\n",
       " 'totalPlayerScore',\n",
       " 'totalScoreRank',\n",
       " 'playerScore0',\n",
       " 'playerScore1',\n",
       " 'playerScore2',\n",
       " 'playerScore3',\n",
       " 'playerScore4',\n",
       " 'playerScore5',\n",
       " 'playerScore6',\n",
       " 'playerScore7',\n",
       " 'playerScore8',\n",
       " 'playerScore9']"
      ]
     },
     "execution_count": 17,
     "metadata": {},
     "output_type": "execute_result"
    }
   ],
   "source": [
    "numeric_features"
   ]
  },
  {
   "cell_type": "code",
   "execution_count": null,
   "metadata": {},
   "outputs": [],
   "source": []
  }
 ],
 "metadata": {
  "kernelspec": {
   "display_name": "Python 3.7.4 64-bit ('anaconda3': virtualenv)",
   "language": "python",
   "name": "python37464bitanaconda3virtualenvbb2bdea6b5cc4aacbbb9d6509d246b8e"
  },
  "language_info": {
   "codemirror_mode": {
    "name": "ipython",
    "version": 3
   },
   "file_extension": ".py",
   "mimetype": "text/x-python",
   "name": "python",
   "nbconvert_exporter": "python",
   "pygments_lexer": "ipython3",
   "version": "3.7.4"
  }
 },
 "nbformat": 4,
 "nbformat_minor": 4
}
